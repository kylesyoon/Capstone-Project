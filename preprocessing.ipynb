{
 "cells": [
  {
   "cell_type": "markdown",
   "metadata": {},
   "source": [
    "# Preprocessing"
   ]
  },
  {
   "cell_type": "markdown",
   "metadata": {},
   "source": [
    "This notebook does the preprocessing for the dataset.\n",
    "\n",
    "1. The bounding boxes and labels are extracted from the annotation files\n",
    "2. The image, bounding box and label are grouped and accumulated in a list\n",
    "3. For training, a train-validation split of 80/20 is done by shuffling the extracted training data and splitting\n",
    "4. These split data is saved into a CSV file for a `CSVGenerator` in the training section to consume"
   ]
  },
  {
   "cell_type": "code",
   "execution_count": 1,
   "metadata": {},
   "outputs": [],
   "source": [
    "import glob\n",
    "import csv\n",
    "import numpy as np"
   ]
  },
  {
   "cell_type": "code",
   "execution_count": 2,
   "metadata": {},
   "outputs": [],
   "source": [
    "def extract_box(path):\n",
    "    \"\"\"extract_box\n",
    "    Extract annotation box positions for each labels from VIVA hand dataset.\n",
    "    output is a list of tuples.\n",
    "\n",
    "    :param path: text file path\n",
    "    \"\"\"\n",
    "\n",
    "    with open(path) as temp:\n",
    "        output = []\n",
    "\n",
    "        for i, line in enumerate(temp):\n",
    "\n",
    "            if i != 0 and line:\n",
    "                label, x_1, y_1, x_off, y_off, *_ = line.split()\n",
    "                pt_1 = (int(x_1), int(y_1))\n",
    "                pt_2 = (pt_1[0] + int(x_off), (pt_1[1] + int(y_off)))\n",
    "                output.append((label, pt_1, pt_2))\n",
    "\n",
    "    return output"
   ]
  },
  {
   "cell_type": "code",
   "execution_count": 3,
   "metadata": {},
   "outputs": [],
   "source": [
    "def create_csv(image_dir, annotation_dir, csv_out_path, val_out_path=None, val_split=None):\n",
    "    image_paths = sorted(glob.glob(image_dir + '*'))\n",
    "    annotations_paths = sorted(glob.glob(annotation_dir + '*'))\n",
    "\n",
    "    # each image can have up to 4 hand bboxes\n",
    "    rows = []\n",
    "    for image_path, annotations_path in zip(image_paths, annotations_paths):\n",
    "            annotations = extract_box(annotations_path)\n",
    "            for annotation in annotations:\n",
    "                # annotation [label, (x1, y1), (x2, y2)]\n",
    "                # save as image,x1,y2,x2,y2,label\n",
    "                rows.append([image_path,\n",
    "                             annotation[1][0], annotation[1][1],\n",
    "                             annotation[2][0], annotation[2][1],\n",
    "                             annotation[0]])\n",
    "    if val_split:\n",
    "        # shuffle and split\n",
    "        np.random.shuffle(rows)\n",
    "        val_size = int(len(rows) * val_split)\n",
    "        val_rows = rows[:val_size]\n",
    "        with open('./data/validation.csv' if val_out_path is None else val_out_path, 'w') as csv_file:\n",
    "            writer = csv.writer(csv_file)\n",
    "            for row in val_rows:\n",
    "                writer.writerow(row)\n",
    "        rows = rows[val_size:]\n",
    "\n",
    "    with open(csv_out_path, 'w') as csv_file:\n",
    "            writer = csv.writer(csv_file)\n",
    "            for row in rows:\n",
    "                writer.writerow(row)"
   ]
  },
  {
   "cell_type": "code",
   "execution_count": 4,
   "metadata": {},
   "outputs": [],
   "source": [
    "# this is the root directory where the training data is extracted\n",
    "data_dir = '/media/appsyoon/New Volume/Machine Learning/data/'\n",
    "# training data path\n",
    "train_dir = data_dir + 'detectiondata/train/'\n",
    "train_image_dir = train_dir + 'pos/'\n",
    "train_annotation_dir = train_dir + 'posGt/'\n",
    "\n",
    "out_path = './data/train.csv'\n",
    "\n",
    "create_csv(train_image_dir, train_annotation_dir, out_path, val_split=0.2)"
   ]
  },
  {
   "cell_type": "code",
   "execution_count": 5,
   "metadata": {},
   "outputs": [],
   "source": [
    "# the test data images are in the same root dir as training\n",
    "test_image_dir = data_dir + 'detectiondata/test/pos/'\n",
    "# but the annotations are downloaded separately and extracted into data_dir/evaluation/\n",
    "test_annotation_dir = data_dir + 'evaluation/annotations/'\n",
    "\n",
    "test_out_path = './data/test.csv'\n",
    "\n",
    "create_csv(test_image_dir, test_annotation_dir, test_out_path)"
   ]
  },
  {
   "cell_type": "markdown",
   "metadata": {},
   "source": [
    "## Visualization\n",
    "\n",
    "Some visualization of the training data."
   ]
  },
  {
   "cell_type": "code",
   "execution_count": 6,
   "metadata": {},
   "outputs": [],
   "source": [
    "import os\n",
    "import matplotlib.pyplot as plt"
   ]
  },
  {
   "cell_type": "code",
   "execution_count": 7,
   "metadata": {},
   "outputs": [
    {
     "name": "stdout",
     "output_type": "stream",
     "text": [
      "Left Hand Driver Bounding Boxes: 4949\n",
      "Right Hand Driver Bounding Boxes: 5354\n",
      "Left Hand Passenger Bounding Boxes: 1639\n",
      "Right Hand Passenger Bounding Boxes: 1287\n"
     ]
    }
   ],
   "source": [
    "train_annotations_paths = sorted(glob.glob(train_annotation_dir + '*'))\n",
    "\n",
    "#class names\n",
    "lh_d_label = 'leftHand_driver'\n",
    "rh_d_label = 'rightHand_driver'\n",
    "lh_p_label = 'leftHand_passenger'\n",
    "rh_p_label = 'rightHand_passenger'\n",
    "\n",
    "# each image can have up to 4 hand bboxes\n",
    "lh_d_count = 0\n",
    "rh_d_count = 0\n",
    "lh_p_count = 0\n",
    "rh_p_count = 0\n",
    "\n",
    "for annotations_path in train_annotations_paths:\n",
    "    anns = extract_box(annotations_path)\n",
    "    viewpoint = os.path.splitext(os.path.split(annotations_path)[1])[0].split('_')[-1]\n",
    "    for ann in anns:\n",
    "        if ann[0] == lh_d_label:\n",
    "            lh_d_count += 1\n",
    "        elif ann[0] == rh_d_label:\n",
    "            rh_d_count += 1\n",
    "        elif ann[0] == lh_p_label:\n",
    "            lh_p_count += 1\n",
    "        elif ann[0] == rh_p_label:\n",
    "            rh_p_count += 1\n",
    "\n",
    "print('Left Hand Driver Bounding Boxes: {}'.format(lh_d_count))\n",
    "print('Right Hand Driver Bounding Boxes: {}'.format(rh_d_count))\n",
    "print('Left Hand Passenger Bounding Boxes: {}'.format(lh_p_count))\n",
    "print('Right Hand Passenger Bounding Boxes: {}'.format(rh_p_count))"
   ]
  },
  {
   "cell_type": "code",
   "execution_count": 8,
   "metadata": {},
   "outputs": [
    {
     "data": {
      "image/png": "[encoded data removed]",
      "text/plain": [
       "<matplotlib.figure.Figure at 0x7f761754a550>"
      ]
     },
     "metadata": {},
     "output_type": "display_data"
    }
   ],
   "source": [
    "#plot\n",
    "plt.bar([0, 1, 2, 3], \n",
    "        [lh_d_count, rh_d_count, lh_p_count, rh_p_count], \n",
    "        tick_label=['Left Hand\\nDriver', 'Right Hand\\nDriver', 'Left Hand\\nPassenger', 'Right Hand\\nPassenger'])\n",
    "plt.savefig('./charts/classes_count.png')\n",
    "plt.show()"
   ]
  },
  {
   "cell_type": "markdown",
   "metadata": {},
   "source": [
    "The challenge evaluates on two different levels:\n",
    "\n",
    "Level-1 (L1): hand instances with minimum height of 70 pixels, only over the shoulder (back) camera view.\n",
    "\n",
    "- Check height from annotation >= 70\n",
    "- From image name format `videoID_framenumber_vehicletype_driversubjectID_passengersubjectID_viewpoint.png` viewpoint is 3.\n",
    "\n",
    "Level-2 (L2): hand instances with minimum height of 25 pixels, all camera views.\n",
    "\n",
    "- Check height from annotation >= 25"
   ]
  },
  {
   "cell_type": "code",
   "execution_count": 9,
   "metadata": {},
   "outputs": [
    {
     "name": "stdout",
     "output_type": "stream",
     "text": [
      "L1: 6607\n",
      "L2: 12080\n"
     ]
    }
   ],
   "source": [
    "test_annotations_paths = sorted(glob.glob(test_annotation_dir + '*'))\n",
    "\n",
    "L1 = 0\n",
    "L2 = 0\n",
    "\n",
    "for annotations_path in test_annotations_paths:\n",
    "        anns = extract_box(annotations_path)\n",
    "        viewpoint = os.path.splitext(os.path.split(annotations_path)[1])[0].split('_')[-1]\n",
    "        for ann in anns:            \n",
    "            height = ann[2][1] - ann[1][1]\n",
    "            if viewpoint == '3' and height >= 70:\n",
    "                L1 += 1\n",
    "            \n",
    "            if height >= 25:\n",
    "                L2 += 1\n",
    "                \n",
    "\n",
    "print('L1: {}'.format(L1))\n",
    "print('L2: {}'.format(L2))"
   ]
  }
 ],
 "metadata": {
  "kernelspec": {
   "display_name": "Python 3",
   "language": "python",
   "name": "python3"
  },
  "language_info": {
   "codemirror_mode": {
    "name": "ipython",
    "version": 3
   },
   "file_extension": ".py",
   "mimetype": "text/x-python",
   "name": "python",
   "nbconvert_exporter": "python",
   "pygments_lexer": "ipython3",
   "version": "3.6.4"
  }
 },
 "nbformat": 4,
 "nbformat_minor": 2
}
