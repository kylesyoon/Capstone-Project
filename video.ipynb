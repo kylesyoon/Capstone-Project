{
 "cells": [
  {
   "cell_type": "code",
   "execution_count": null,
   "metadata": {},
   "outputs": [],
   "source": [
    "import PIL.Image\n",
    "\n",
    "def process_image(image):\n",
    "    # copy to draw on\n",
    "    draw = image.copy()\n",
    "\n",
    "    # preprocess image for network\n",
    "    image = val_generator.preprocess_image(image)\n",
    "    image, scale = val_generator.resize_image(image)\n",
    "    annotations = val_generator.load_annotations(index)\n",
    "\n",
    "    # process image\n",
    "    start = time.time()\n",
    "    _, _, detections = model.predict_on_batch(np.expand_dims(image, axis=0))\n",
    "    print(\"processing time: \", time.time() - start)\n",
    "\n",
    "    # compute predicted labels and scores\n",
    "    predicted_labels = np.argmax(detections[0, :, 4:], axis=1)\n",
    "    scores = detections[0, np.arange(detections.shape[1]), 4 + predicted_labels]\n",
    "\n",
    "    # correct for image scale\n",
    "    detections[0, :, :4] /= scale\n",
    "\n",
    "    # visualize detections\n",
    "    for idx, (label, score) in enumerate(zip(predicted_labels, scores)):\n",
    "        if score < 0.1:\n",
    "            continue\n",
    "        b = detections[0, idx, :4].astype(int)\n",
    "        cv2.rectangle(draw, (b[0], b[1]), (b[2], b[3]), (0, 0, 255), 3)\n",
    "        caption = \"{} {:.3f}\".format(val_generator.label_to_name(label), score)\n",
    "        cv2.putText(draw, caption, (b[0], b[1] - 10), cv2.FONT_HERSHEY_PLAIN, 1.5, (0, 0, 0), 3)\n",
    "        cv2.putText(draw, caption, (b[0], b[1] - 10), cv2.FONT_HERSHEY_PLAIN, 1.5, (255, 255, 255), 2)\n",
    "\n",
    "    return draw"
   ]
  },
  {
   "cell_type": "code",
   "execution_count": null,
   "metadata": {},
   "outputs": [],
   "source": [
    "import imageio\n",
    "imageio.plugins.ffmpeg.download()\n",
    "\n",
    "from moviepy.editor import VideoFileClip\n",
    "\n",
    "def process_video (input_path, output_path):\n",
    "    clip = VideoFileClip (input_path)\n",
    "    result = clip.fl_image(process_image)\n",
    "    %time result.write_videofile (output_path, audio=False)\n",
    "\n",
    "process_video ('test_realtime.mp4', 'test_realtime_result.mp4')"
   ]
  }
 ],
 "metadata": {
  "kernelspec": {
   "display_name": "Python 3",
   "language": "python",
   "name": "python3"
  },
  "language_info": {
   "codemirror_mode": {
    "name": "ipython",
    "version": 3
   },
   "file_extension": ".py",
   "mimetype": "text/x-python",
   "name": "python",
   "nbconvert_exporter": "python",
   "pygments_lexer": "ipython3",
   "version": "3.6.4"
  }
 },
 "nbformat": 4,
 "nbformat_minor": 2
}
