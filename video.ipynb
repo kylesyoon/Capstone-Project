{
 "cells": [
  {
   "cell_type": "markdown",
   "metadata": {},
   "source": [
    "# Video Processing\n",
    "\n",
    "This notebook loads the saved model and processes detection on a video."
   ]
  },
  {
   "cell_type": "code",
   "execution_count": 1,
   "metadata": {},
   "outputs": [
    {
     "name": "stderr",
     "output_type": "stream",
     "text": [
      "Using TensorFlow backend.\n",
      "/home/ubuntu/anaconda3/envs/tensorflow_p36/lib/python3.6/importlib/_bootstrap.py:219: RuntimeWarning: compiletime version 3.5 of module 'tensorflow.python.framework.fast_tensor_util' does not match runtime version 3.6\n",
      "  return f(*args, **kwds)\n"
     ]
    },
    {
     "name": "stdout",
     "output_type": "stream",
     "text": [
      "Imageio: 'ffmpeg.linux64' was not found on your computer; downloading it now.\n",
      "Try 1. Download from https://github.com/imageio/imageio-binaries/raw/master/ffmpeg/ffmpeg.linux64 (27.2 MB)\n",
      "Downloading: 8192/28549024 bytes (0.03080192/28549024 bytes (10.86201344/28549024 bytes (21.79322496/28549024 bytes (32.712419072/28549024 bytes (43.5%15556608/28549024 bytes (54.5%18743296/28549024 bytes (65.7%21905408/28549024 bytes (76.7%25075712/28549024 bytes (87.8%28270592/28549024 bytes (99.0%28549024/28549024 bytes (100.0%)\n",
      "  Done\n",
      "File saved as /home/ubuntu/.imageio/ffmpeg/ffmpeg.linux64.\n"
     ]
    }
   ],
   "source": [
    "import keras\n",
    "import keras.preprocessing.image\n",
    "from keras_retinanet.models.resnet import custom_objects\n",
    "from keras_retinanet.preprocessing.csv_generator import CSVGenerator\n",
    "\n",
    "import imageio\n",
    "\n",
    "imageio.plugins.ffmpeg.download()\n",
    "\n",
    "from moviepy.editor import VideoFileClip\n",
    "import PIL.Image\n",
    "import time\n",
    "import numpy as np\n",
    "import cv2"
   ]
  },
  {
   "cell_type": "markdown",
   "metadata": {},
   "source": [
    "`VideoFileClip` needs an instance to hold the test generator. This `VideoProcessor` instance retains the generator instance and also provides a processing function."
   ]
  },
  {
   "cell_type": "code",
   "execution_count": 2,
   "metadata": {},
   "outputs": [],
   "source": [
    "class VideoProcessor():\n",
    "    def __init__(self):\n",
    "        self.model = keras.models.load_model('./snapshots/resnet50_csv_18.h5', custom_objects=custom_objects)\n",
    "        # create image data generator object for the preprocessing functionality\n",
    "        generator = keras.preprocessing.image.ImageDataGenerator()\n",
    "        self.csv_generator = CSVGenerator(\n",
    "            './data/test.csv',\n",
    "            './data/classes.csv',\n",
    "            generator,\n",
    "            batch_size=1,\n",
    "        )\n",
    "        \n",
    "    def process_image(self, image):\n",
    "        # copy to draw on\n",
    "        draw = image.copy()\n",
    "\n",
    "        # preprocess image for network\n",
    "        image = self.csv_generator.preprocess_image(image)\n",
    "        image, scale = self.csv_generator.resize_image(image)\n",
    "\n",
    "        # process image\n",
    "        start = time.time()\n",
    "        _, _, detections = self.model.predict_on_batch(np.expand_dims(image, axis=0))\n",
    "\n",
    "        # compute predicted labels and scores\n",
    "        predicted_labels = np.argmax(detections[0, :, 4:], axis=1)\n",
    "        scores = detections[0, np.arange(detections.shape[1]), 4 + predicted_labels]\n",
    "\n",
    "        # correct for image scale\n",
    "        detections[0, :, :4] /= scale\n",
    "\n",
    "        # visualize detections\n",
    "        for idx, (label, score) in enumerate(zip(predicted_labels, scores)):\n",
    "            if score < 0.20:\n",
    "                continue\n",
    "            b = detections[0, idx, :4].astype(int)\n",
    "            cv2.rectangle(draw, (b[0], b[1]), (b[2], b[3]), (0, 0, 255), 3)\n",
    "            caption = \"{} {:.3f}\".format(self.csv_generator.label_to_name(label), score)\n",
    "            cv2.putText(draw, caption, (b[0], b[1] - 10), cv2.FONT_HERSHEY_PLAIN, 1.5, (0, 0, 0), 3)\n",
    "            cv2.putText(draw, caption, (b[0], b[1] - 10), cv2.FONT_HERSHEY_PLAIN, 1.5, (255, 255, 255), 2)\n",
    "\n",
    "        return draw"
   ]
  },
  {
   "cell_type": "code",
   "execution_count": 3,
   "metadata": {},
   "outputs": [],
   "source": [
    "processor = VideoProcessor()\n",
    "\n",
    "def process_video(input_path, output_path):\n",
    "    clip = VideoFileClip (input_path)\n",
    "    result = clip.fl_image(processor.process_image)\n",
    "    %time result.write_videofile (output_path, audio=False)"
   ]
  },
  {
   "cell_type": "code",
   "execution_count": 4,
   "metadata": {},
   "outputs": [
    {
     "name": "stdout",
     "output_type": "stream",
     "text": [
      "[MoviePy] >>>> Building video ./videos/ironman_result.mp4\n",
      "[MoviePy] Writing video ./videos/ironman_result.mp4\n"
     ]
    },
    {
     "name": "stderr",
     "output_type": "stream",
     "text": [
      "100%|██████████| 4620/4620 [14:42<00:00,  5.28it/s]\n"
     ]
    },
    {
     "name": "stdout",
     "output_type": "stream",
     "text": [
      "[MoviePy] Done.\n",
      "[MoviePy] >>>> Video ready: ./videos/ironman_result.mp4 \n",
      "\n",
      "CPU times: user 4min 26s, sys: 10.5 s, total: 4min 37s\n",
      "Wall time: 14min 42s\n"
     ]
    }
   ],
   "source": [
    "process_video('./videos/ironman.mp4', './videos/ironman_result.mp4')"
   ]
  },
  {
   "cell_type": "code",
   "execution_count": null,
   "metadata": {},
   "outputs": [],
   "source": []
  }
 ],
 "metadata": {
  "kernelspec": {
   "display_name": "Python [default]",
   "language": "python",
   "name": "python3"
  },
  "language_info": {
   "codemirror_mode": {
    "name": "ipython",
    "version": 3
   },
   "file_extension": ".py",
   "mimetype": "text/x-python",
   "name": "python",
   "nbconvert_exporter": "python",
   "pygments_lexer": "ipython3",
   "version": "3.6.3"
  }
 },
 "nbformat": 4,
 "nbformat_minor": 2
}
