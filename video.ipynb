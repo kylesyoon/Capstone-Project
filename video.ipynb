{
 "cells": [
  {
   "cell_type": "code",
   "execution_count": 1,
   "metadata": {},
   "outputs": [
    {
     "name": "stderr",
     "output_type": "stream",
     "text": [
      "Using TensorFlow backend.\n",
      "/home/appsyoon/miniconda3/envs/capstone/lib/python3.6/importlib/_bootstrap.py:219: RuntimeWarning: compiletime version 3.5 of module 'tensorflow.python.framework.fast_tensor_util' does not match runtime version 3.6\n",
      "  return f(*args, **kwds)\n"
     ]
    }
   ],
   "source": [
    "import keras\n",
    "import keras.preprocessing.image\n",
    "from keras_retinanet.models.resnet import custom_objects\n",
    "from keras_retinanet.preprocessing.csv_generator import CSVGenerator\n",
    "\n",
    "import imageio\n",
    "\n",
    "imageio.plugins.ffmpeg.download()\n",
    "\n",
    "from moviepy.editor import VideoFileClip\n",
    "import PIL.Image\n",
    "import time\n",
    "import numpy as np\n",
    "import cv2"
   ]
  },
  {
   "cell_type": "code",
   "execution_count": 4,
   "metadata": {},
   "outputs": [],
   "source": [
    "class VideoProcessor():\n",
    "    def __init__(self):\n",
    "        self.model = keras.models.load_model('./resnet50_csv_20.h5', custom_objects=custom_objects)\n",
    "        # create image data generator object for the preprocessing functionality\n",
    "        generator = keras.preprocessing.image.ImageDataGenerator()\n",
    "        self.csv_generator = CSVGenerator(\n",
    "            './test.csv',\n",
    "            './classes.csv',\n",
    "            generator,\n",
    "            batch_size=1,\n",
    "        )\n",
    "        \n",
    "    def process_image(self, image):\n",
    "        # copy to draw on\n",
    "        draw = image.copy()\n",
    "\n",
    "        # preprocess image for network\n",
    "        image = self.csv_generator.preprocess_image(image)\n",
    "        image, scale = self.csv_generator.resize_image(image)\n",
    "\n",
    "        # process image\n",
    "        start = time.time()\n",
    "        _, _, detections = self.model.predict_on_batch(np.expand_dims(image, axis=0))\n",
    "\n",
    "        # compute predicted labels and scores\n",
    "        predicted_labels = np.argmax(detections[0, :, 4:], axis=1)\n",
    "        scores = detections[0, np.arange(detections.shape[1]), 4 + predicted_labels]\n",
    "\n",
    "        # correct for image scale\n",
    "        detections[0, :, :4] /= scale\n",
    "\n",
    "        # visualize detections\n",
    "        for idx, (label, score) in enumerate(zip(predicted_labels, scores)):\n",
    "            if score < 0.20:\n",
    "                continue\n",
    "            b = detections[0, idx, :4].astype(int)\n",
    "            cv2.rectangle(draw, (b[0], b[1]), (b[2], b[3]), (0, 0, 255), 3)\n",
    "            caption = \"{} {:.3f}\".format(self.csv_generator.label_to_name(label), score)\n",
    "            cv2.putText(draw, caption, (b[0], b[1] - 10), cv2.FONT_HERSHEY_PLAIN, 1.5, (0, 0, 0), 3)\n",
    "            cv2.putText(draw, caption, (b[0], b[1] - 10), cv2.FONT_HERSHEY_PLAIN, 1.5, (255, 255, 255), 2)\n",
    "\n",
    "        return draw"
   ]
  },
  {
   "cell_type": "code",
   "execution_count": 5,
   "metadata": {},
   "outputs": [
    {
     "name": "stdout",
     "output_type": "stream",
     "text": [
      "[MoviePy] >>>> Building video test_1_result.mp4\n",
      "[MoviePy] Writing video test_1_result.mp4\n"
     ]
    },
    {
     "name": "stderr",
     "output_type": "stream",
     "text": [
      "100%|██████████| 246/246 [15:23<00:00,  3.72s/it]\n"
     ]
    },
    {
     "name": "stdout",
     "output_type": "stream",
     "text": [
      "[MoviePy] Done.\n",
      "[MoviePy] >>>> Video ready: test_1_result.mp4 \n",
      "\n",
      "CPU times: user 1h 45min 51s, sys: 1min 53s, total: 1h 47min 44s\n",
      "Wall time: 15min 24s\n",
      "[MoviePy] >>>> Building video test_2_result.mp4\n",
      "[MoviePy] Writing video test_2_result.mp4\n"
     ]
    },
    {
     "name": "stderr",
     "output_type": "stream",
     "text": [
      "100%|█████████▉| 333/334 [20:51<00:03,  3.76s/it]\n"
     ]
    },
    {
     "name": "stdout",
     "output_type": "stream",
     "text": [
      "[MoviePy] Done.\n",
      "[MoviePy] >>>> Video ready: test_2_result.mp4 \n",
      "\n",
      "CPU times: user 2h 23min 40s, sys: 2min 28s, total: 2h 26min 9s\n",
      "Wall time: 20min 53s\n"
     ]
    }
   ],
   "source": [
    "processor = VideoProcessor()\n",
    "\n",
    "def process_video(input_path, output_path):\n",
    "    clip = VideoFileClip (input_path)\n",
    "    result = clip.fl_image(processor.process_image)\n",
    "    %time result.write_videofile (output_path, audio=False)\n",
    "    \n",
    "process_video('test_1.mp4', 'test_1_result.mp4')\n",
    "process_video('test_2.mp4', 'test_2_result.mp4')"
   ]
  },
  {
   "cell_type": "code",
   "execution_count": null,
   "metadata": {},
   "outputs": [],
   "source": []
  }
 ],
 "metadata": {
  "kernelspec": {
   "display_name": "Python 3",
   "language": "python",
   "name": "python3"
  },
  "language_info": {
   "codemirror_mode": {
    "name": "ipython",
    "version": 3
   },
   "file_extension": ".py",
   "mimetype": "text/x-python",
   "name": "python",
   "nbconvert_exporter": "python",
   "pygments_lexer": "ipython3",
   "version": "3.6.4"
  }
 },
 "nbformat": 4,
 "nbformat_minor": 2
}
