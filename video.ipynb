{
 "cells": [
  {
   "cell_type": "markdown",
   "metadata": {},
   "source": [
    "# Video Processing\n",
    "\n",
    "This notebook loads the saved model and processes detection on a video."
   ]
  },
  {
   "cell_type": "code",
   "execution_count": 1,
   "metadata": {},
   "outputs": [
    {
     "name": "stderr",
     "output_type": "stream",
     "text": [
      "Using TensorFlow backend.\n",
      "/home/ubuntu/anaconda3/envs/tensorflow_p36/lib/python3.6/importlib/_bootstrap.py:219: RuntimeWarning: compiletime version 3.5 of module 'tensorflow.python.framework.fast_tensor_util' does not match runtime version 3.6\n",
      "  return f(*args, **kwds)\n"
     ]
    }
   ],
   "source": [
    "import keras\n",
    "import keras.preprocessing.image\n",
    "from keras_retinanet.models.resnet import custom_objects\n",
    "from keras_retinanet.preprocessing.csv_generator import CSVGenerator\n",
    "\n",
    "import imageio\n",
    "\n",
    "imageio.plugins.ffmpeg.download()\n",
    "\n",
    "from moviepy.editor import VideoFileClip\n",
    "import PIL.Image\n",
    "import time\n",
    "import numpy as np\n",
    "import cv2"
   ]
  },
  {
   "cell_type": "markdown",
   "metadata": {},
   "source": [
    "`VideoFileClip` needs an instance to hold the test generator. This `VideoProcessor` instance retains the generator instance and also provides a processing function."
   ]
  },
  {
   "cell_type": "code",
   "execution_count": 2,
   "metadata": {},
   "outputs": [],
   "source": [
    "class VideoProcessor():\n",
    "    def __init__(self, threshold):\n",
    "        self.model = keras.models.load_model('./snapshots/resnet50_csv_18.h5', custom_objects=custom_objects)\n",
    "        # create image data generator object for the preprocessing functionality\n",
    "        generator = keras.preprocessing.image.ImageDataGenerator()\n",
    "        self.csv_generator = CSVGenerator(\n",
    "            './data/test.csv',\n",
    "            './data/classes.csv',\n",
    "            generator,\n",
    "            batch_size=1,\n",
    "        )\n",
    "        self.threshold = threshold\n",
    "        \n",
    "    def process_image(self, image):\n",
    "        # copy to draw on\n",
    "        draw = image.copy()\n",
    "\n",
    "        # preprocess image for network\n",
    "        image = self.csv_generator.preprocess_image(image)\n",
    "        image, scale = self.csv_generator.resize_image(image)\n",
    "\n",
    "        # process image\n",
    "        start = time.time()\n",
    "        _, _, detections = self.model.predict_on_batch(np.expand_dims(image, axis=0))\n",
    "\n",
    "        # compute predicted labels and scores\n",
    "        predicted_labels = np.argmax(detections[0, :, 4:], axis=1)\n",
    "        scores = detections[0, np.arange(detections.shape[1]), 4 + predicted_labels]\n",
    "\n",
    "        # correct for image scale\n",
    "        detections[0, :, :4] /= scale\n",
    "\n",
    "        # visualize detections\n",
    "        for idx, (label, score) in enumerate(zip(predicted_labels, scores)):\n",
    "            if score < self.threshold:\n",
    "                continue\n",
    "            b = detections[0, idx, :4].astype(int)\n",
    "            cv2.rectangle(draw, (b[0], b[1]), (b[2], b[3]), (0, 0, 255), 3)\n",
    "            caption = \"{} {:.3f}\".format(self.csv_generator.label_to_name(label), score)\n",
    "            cv2.putText(draw, caption, (b[0], b[1] - 10), cv2.FONT_HERSHEY_PLAIN, 1.5, (0, 0, 0), 3)\n",
    "            cv2.putText(draw, caption, (b[0], b[1] - 10), cv2.FONT_HERSHEY_PLAIN, 1.5, (255, 255, 255), 2)\n",
    "\n",
    "        return draw"
   ]
  },
  {
   "cell_type": "code",
   "execution_count": 3,
   "metadata": {},
   "outputs": [],
   "source": [
    "def process_video(processor, input_path, output_path):\n",
    "    clip = VideoFileClip (input_path)\n",
    "    result = clip.fl_image(processor.process_image)\n",
    "    %time result.write_videofile (output_path, audio=False)"
   ]
  },
  {
   "cell_type": "code",
   "execution_count": 5,
   "metadata": {},
   "outputs": [
    {
     "name": "stdout",
     "output_type": "stream",
     "text": [
      "[MoviePy] >>>> Building video ./videos/ironman_result.mp4\n",
      "[MoviePy] Writing video ./videos/ironman_result.mp4\n"
     ]
    },
    {
     "name": "stderr",
     "output_type": "stream",
     "text": [
      "100%|██████████| 1131/1131 [03:35<00:00,  5.22it/s]\n"
     ]
    },
    {
     "name": "stdout",
     "output_type": "stream",
     "text": [
      "[MoviePy] Done.\n",
      "[MoviePy] >>>> Video ready: ./videos/ironman_result.mp4 \n",
      "\n",
      "CPU times: user 1min 4s, sys: 3.1 s, total: 1min 7s\n",
      "Wall time: 3min 35s\n"
     ]
    }
   ],
   "source": [
    "ironman_processor = VideoProcessor(threshold=0.10)\n",
    "process_video(ironman_processor, './videos/ironman.mp4', './videos/ironman_result.mp4')"
   ]
  },
  {
   "cell_type": "code",
   "execution_count": 6,
   "metadata": {},
   "outputs": [
    {
     "name": "stdout",
     "output_type": "stream",
     "text": [
      "[MoviePy] >>>> Building video ./videos/selfie_result.mp4\n",
      "[MoviePy] Writing video ./videos/selfie_result.mp4\n"
     ]
    },
    {
     "name": "stderr",
     "output_type": "stream",
     "text": [
      "100%|██████████| 802/802 [03:17<00:00,  4.13it/s]\n"
     ]
    },
    {
     "name": "stdout",
     "output_type": "stream",
     "text": [
      "[MoviePy] Done.\n",
      "[MoviePy] >>>> Video ready: ./videos/selfie_result.mp4 \n",
      "\n",
      "CPU times: user 1min 6s, sys: 3.21 s, total: 1min 9s\n",
      "Wall time: 3min 21s\n"
     ]
    }
   ],
   "source": [
    "selfie_processor = VideoProcessor(threshold=0.25)\n",
    "process_video(selfie_processor, './videos/selfie.mp4', './videos/selfie_result.mp4')"
   ]
  },
  {
   "cell_type": "code",
   "execution_count": null,
   "metadata": {},
   "outputs": [],
   "source": []
  }
 ],
 "metadata": {
  "kernelspec": {
   "display_name": "Python [default]",
   "language": "python",
   "name": "python3"
  },
  "language_info": {
   "codemirror_mode": {
    "name": "ipython",
    "version": 3
   },
   "file_extension": ".py",
   "mimetype": "text/x-python",
   "name": "python",
   "nbconvert_exporter": "python",
   "pygments_lexer": "ipython3",
   "version": "3.6.3"
  }
 },
 "nbformat": 4,
 "nbformat_minor": 2
}
